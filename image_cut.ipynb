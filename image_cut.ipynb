{
 "cells": [
  {
   "cell_type": "code",
   "execution_count": 26,
   "metadata": {},
   "outputs": [],
   "source": [
    "import tensorflow.image as timg\n",
    "import tensorflow as tf\n",
    "from matplotlib import pyplot as plt\n",
    "import os\n",
    "tf.enable_eager_execution()"
   ]
  },
  {
   "cell_type": "code",
   "execution_count": 18,
   "metadata": {},
   "outputs": [],
   "source": [
    "raw_path = \"./data/cell\"\n",
    "# test_path  = \"./data/cell/test\"\n",
    "rawimage_path = os.listdir(f\"{raw_path}/rawimage\")\n",
    "rawlabel_path = os.listdir(f\"{raw_path}/rawlabel\")\n",
    "rawimage_path = [f\"{raw_path}/rawimage/{i}\" for i in rawimage_path]\n",
    "rawlabel_path = [f\"{raw_path}/rawlabel/{i}\" for i in label_path]"
   ]
  },
  {
   "cell_type": "code",
   "execution_count": 28,
   "metadata": {},
   "outputs": [],
   "source": [
    "train_path = f\"{raw_path}/train\"\n",
    "test_path = f\"{raw_path}/test\""
   ]
  },
  {
   "cell_type": "code",
   "execution_count": 33,
   "metadata": {},
   "outputs": [],
   "source": [
    "def random_cut(imagepath,labelpath,image_output_dir,label_output_dir):\n",
    "    ipath,iname = os.path.split(imagepath)\n",
    "    lpath,lname = os.path.split(labelpath)\n",
    "    \n",
    "    rname,ext = os.path.splitext(iname)\n",
    "    \n",
    "    print(imagepath)\n",
    "    \n",
    "    imagef,labelf = tf.read_file(imagepath),tf.read_file(labelpath)\n",
    "    image,label = timg.decode_image(imagef),timg.decode_image(labelf)\n",
    "    if image.ndim == 3 and image.shape[-1] == 4:\n",
    "        image = image[:,:,:3]\n",
    "    \n",
    "    if image.shape[:2] != label.shape[:2]:\n",
    "        print(f\"shape not eq in {imagepath}\")\n",
    "        return\n",
    "    \n",
    "    pix = 256\n",
    "    concat = tf.concat([image,label],axis=-1)\n",
    "    num = 4\n",
    "    for i in range(num):\n",
    "        nvalue = timg.random_crop(concat,(pix,pix,concat.shape[-1]),seed = 666)\n",
    "        clipimage,cliplabel = nvalue[:,:,:image.shape[-1]].numpy(),nvalue[:,:,image.shape[-1]:].numpy()\n",
    "        cliplabel = cliplabel[:,:,1]\n",
    "        cliplabel[cliplabel<125] = 0\n",
    "        cliplabel[cliplabel>125] = 255\n",
    "        plt.imsave(image_output_dir+f\"/{i}_{rname}.jpg\",clipimage)\n",
    "        \n",
    "        import scipy.misc\n",
    "        scipy.misc.toimage(cliplabel).save(label_output_dir+f\"/{i}_{rname}.jpg\")\n",
    "        \n",
    "#         plt.imsave(label_output_dir+f\"/{i}_{lname}\",cliplabel,cmap='gray')"
   ]
  },
  {
   "cell_type": "code",
   "execution_count": 22,
   "metadata": {},
   "outputs": [],
   "source": [
    "def random_cut(imagepath,image_output_dir,i):\n",
    "    ipath,iname = os.path.split(imagepath)\n",
    "    \n",
    "    rname,ext = os.path.splitext(iname)\n",
    "    \n",
    "    print(imagepath)\n",
    "    \n",
    "    imagef = tf.read_file(imagepath)\n",
    "    image = timg.decode_image(imagef)\n",
    "    if image.ndim == 3 and image.shape[-1] == 4:\n",
    "        image = image[:,:,:3]\n",
    "    \n",
    "    pix = 256\n",
    "    num = 10\n",
    "    nvalue = timg.random_crop(image,(pix,pix,image.shape[-1]),seed = 666)\n",
    "#     clipimage = nvalue[:,:,:image.shape[-1]].numpy()\n",
    "    plt.imsave(image_output_dir+f\"/{i}.jpg\",nvalue.numpy())"
   ]
  },
  {
   "cell_type": "code",
   "execution_count": null,
   "metadata": {},
   "outputs": [],
   "source": [
    "def resize(ifname,size = (1000))\n",
    "\n",
    "infile = 'D:\\\\original_img.jpg'\n",
    "outfile = 'D:\\\\adjust_img.jpg'\n",
    "im = Image.open(infile)\n",
    "(x,y) = im.size #read image size\n",
    "x_s = 250 #define standard width\n",
    "y_s = y * x_s / x #calc height based on standard width\n",
    "out = im.resize((x_s,y_s),Image.ANTIALIAS) #resize image with high-quality\n",
    "out.save(outfile)"
   ]
  },
  {
   "cell_type": "code",
   "execution_count": 37,
   "metadata": {},
   "outputs": [
    {
     "name": "stdout",
     "output_type": "stream",
     "text": [
      "./data/cell/rawimage/0.jpg\n"
     ]
    },
    {
     "name": "stderr",
     "output_type": "stream",
     "text": [
      "c:\\users\\sailist\\appdata\\local\\programs\\python\\python36\\lib\\site-packages\\ipykernel_launcher.py:30: DeprecationWarning: `toimage` is deprecated!\n",
      "`toimage` is deprecated in SciPy 1.0.0, and will be removed in 1.2.0.\n",
      "Use Pillow's ``Image.fromarray`` directly instead.\n"
     ]
    },
    {
     "name": "stdout",
     "output_type": "stream",
     "text": [
      "./data/cell/rawimage/1.jpg\n",
      "./data/cell/rawimage/10.jpg\n",
      "./data/cell/rawimage/11.jpg\n",
      "./data/cell/rawimage/12.jpg\n",
      "./data/cell/rawimage/13.jpg\n",
      "./data/cell/rawimage/14.jpg\n",
      "./data/cell/rawimage/15.jpg\n",
      "./data/cell/rawimage/16.jpg\n",
      "./data/cell/rawimage/17.jpg\n",
      "./data/cell/rawimage/18.jpg\n",
      "./data/cell/rawimage/19.jpg\n",
      "./data/cell/rawimage/2.jpg\n",
      "./data/cell/rawimage/20.jpg\n",
      "./data/cell/rawimage/21.jpg\n",
      "./data/cell/rawimage/22.jpg\n",
      "./data/cell/rawimage/23.jpg\n",
      "./data/cell/rawimage/24.jpg\n",
      "./data/cell/rawimage/25.jpg\n",
      "./data/cell/rawimage/26.jpg\n",
      "./data/cell/rawimage/27.jpg\n",
      "./data/cell/rawimage/28.jpg\n",
      "./data/cell/rawimage/29.jpg\n",
      "./data/cell/rawimage/3.jpg\n",
      "./data/cell/rawimage/4.jpg\n",
      "./data/cell/rawimage/5.jpg\n",
      "./data/cell/rawimage/6.jpg\n",
      "./data/cell/rawimage/7.jpg\n",
      "./data/cell/rawimage/8.jpg\n",
      "./data/cell/rawimage/9.jpg\n"
     ]
    }
   ],
   "source": [
    "for i,l in zip(rawimage_path,rawlabel_path):\n",
    "    random_cut(i,l,f\"{train_path}/image\",f\"{train_path}/label\")"
   ]
  },
  {
   "cell_type": "code",
   "execution_count": null,
   "metadata": {},
   "outputs": [],
   "source": []
  },
  {
   "cell_type": "code",
   "execution_count": 125,
   "metadata": {},
   "outputs": [
    {
     "data": {
      "text/plain": [
       "('./data/membrane/train/image/tile_x003_y006.PNG',\n",
       " './data/membrane/train/label/tile_x003_y006.PNG')"
      ]
     },
     "execution_count": 125,
     "metadata": {},
     "output_type": "execute_result"
    }
   ],
   "source": [
    "image_path[i],label_path[i]"
   ]
  },
  {
   "cell_type": "code",
   "execution_count": 85,
   "metadata": {},
   "outputs": [],
   "source": [
    "cliplabel = cliplabel.numpy()"
   ]
  },
  {
   "cell_type": "code",
   "execution_count": 94,
   "metadata": {},
   "outputs": [],
   "source": [
    "cliplabel[cliplabel<125] = 0"
   ]
  },
  {
   "cell_type": "code",
   "execution_count": 106,
   "metadata": {},
   "outputs": [
    {
     "data": {
      "text/plain": [
       "(512, 512, 4)"
      ]
     },
     "execution_count": 106,
     "metadata": {},
     "output_type": "execute_result"
    }
   ],
   "source": [
    "plt.imread(\"./cut_new/label/0_008-014.PNG\")"
   ]
  },
  {
   "cell_type": "code",
   "execution_count": 98,
   "metadata": {},
   "outputs": [
    {
     "data": {
      "text/plain": [
       "array([[255, 255, 255, ...,   0,   0,   0],\n",
       "       [  0,   0, 255, ...,   0,   0,   0],\n",
       "       [  0,   0,   0, ...,   0,   0,   0],\n",
       "       ...,\n",
       "       [  0,   0,   0, ...,   0,   0,   0],\n",
       "       [  0,   0,   0, ...,   0,   0,   0],\n",
       "       [  0,   0,   0, ...,   0,   0,   0]], dtype=uint8)"
      ]
     },
     "execution_count": 98,
     "metadata": {},
     "output_type": "execute_result"
    }
   ],
   "source": [
    "cliplabel[:,:,1]"
   ]
  },
  {
   "cell_type": "code",
   "execution_count": 55,
   "metadata": {},
   "outputs": [],
   "source": [
    "import matplotlib.pyplot as plt"
   ]
  },
  {
   "cell_type": "code",
   "execution_count": 142,
   "metadata": {},
   "outputs": [
    {
     "data": {
      "text/plain": [
       "3"
      ]
     },
     "execution_count": 142,
     "metadata": {},
     "output_type": "execute_result"
    }
   ],
   "source": [
    "clipimage.ndim"
   ]
  },
  {
   "cell_type": "code",
   "execution_count": 69,
   "metadata": {},
   "outputs": [
    {
     "data": {
      "text/plain": [
       "<matplotlib.image.AxesImage at 0x7f22fcc7c668>"
      ]
     },
     "execution_count": 69,
     "metadata": {},
     "output_type": "execute_result"
    },
    {
     "data": {
      "image/png": "[encoded data removed]",
      "text/plain": [
       "<Figure size 432x288 with 1 Axes>"
      ]
     },
     "metadata": {
      "needs_background": "light"
     },
     "output_type": "display_data"
    }
   ],
   "source": [
    "plt.imshow(cliplabel)"
   ]
  },
  {
   "cell_type": "code",
   "execution_count": 53,
   "metadata": {},
   "outputs": [
    {
     "data": {
      "text/plain": [
       "<tf.Tensor: id=269, shape=(512, 512, 4), dtype=uint8, numpy=\n",
       "array([[[255, 160, 160, 160],\n",
       "        [255, 207, 207, 207],\n",
       "        [255, 220, 220, 220],\n",
       "        ...,\n",
       "        [255,   0,   0,   0],\n",
       "        [255,   0,   0,   0],\n",
       "        [255,   0,   0,   0]],\n",
       "\n",
       "       [[255,  48,  48,  48],\n",
       "        [255,  93,  93,  93],\n",
       "        [255, 140, 140, 140],\n",
       "        ...,\n",
       "        [255,   0,   0,   0],\n",
       "        [255,   0,   0,   0],\n",
       "        [255,   0,   0,   0]],\n",
       "\n",
       "       [[255,   4,   4,   4],\n",
       "        [255,  16,  16,  16],\n",
       "        [255,  34,  34,  34],\n",
       "        ...,\n",
       "        [255,   0,   0,   0],\n",
       "        [255,   0,   0,   0],\n",
       "        [255,   0,   0,   0]],\n",
       "\n",
       "       ...,\n",
       "\n",
       "       [[255,   0,   0,   0],\n",
       "        [255,   0,   0,   0],\n",
       "        [255,   0,   0,   0],\n",
       "        ...,\n",
       "        [255,   0,   0,   0],\n",
       "        [255,   0,   0,   0],\n",
       "        [255,   0,   0,   0]],\n",
       "\n",
       "       [[255,   0,   0,   0],\n",
       "        [255,   0,   0,   0],\n",
       "        [255,   0,   0,   0],\n",
       "        ...,\n",
       "        [255,   0,   0,   0],\n",
       "        [255,   0,   0,   0],\n",
       "        [255,   0,   0,   0]],\n",
       "\n",
       "       [[255,   0,   0,   0],\n",
       "        [255,   0,   0,   0],\n",
       "        [255,   0,   0,   0],\n",
       "        ...,\n",
       "        [255,   0,   0,   0],\n",
       "        [255,   0,   0,   0],\n",
       "        [255,   0,   0,   0]]], dtype=uint8)>"
      ]
     },
     "execution_count": 53,
     "metadata": {},
     "output_type": "execute_result"
    }
   ],
   "source": [
    "cliplabel"
   ]
  }
 ],
 "metadata": {
  "kernelspec": {
   "display_name": "Python 3",
   "language": "python",
   "name": "python3"
  },
  "language_info": {
   "codemirror_mode": {
    "name": "ipython",
    "version": 3
   },
   "file_extension": ".py",
   "mimetype": "text/x-python",
   "name": "python",
   "nbconvert_exporter": "python",
   "pygments_lexer": "ipython3",
   "version": "3.6.4"
  }
 },
 "nbformat": 4,
 "nbformat_minor": 2
}
